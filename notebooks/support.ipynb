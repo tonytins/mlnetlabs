{
 "cells": [
  {
   "cell_type": "markdown",
   "metadata": {},
   "source": [
    "# Categorize Github support issues\n",
    "Based on Microsoft's [ML.NET tutorial](https://docs.microsoft.com/en-us/dotnet/machine-learning/tutorials/github-issue-classification). It has been altered to accept set of JSON samples with the order of the issue randomized. "
   ]
  },
  {
   "cell_type": "code",
   "execution_count": 1,
   "metadata": {},
   "source": [
    "#r \"nuget:Microsoft.ML\""
   ],
   "outputs": []
  },
  {
   "cell_type": "code",
   "execution_count": 1,
   "metadata": {},
   "source": [
    "using System.IO;\n",
    "using System.Linq;\n",
    "using System.Text.Json;\n",
    "using Microsoft.ML;\n",
    "using Microsoft.ML.Data;"
   ],
   "outputs": []
  },
  {
   "cell_type": "code",
   "execution_count": 1,
   "metadata": {},
   "source": [
    "public class GitHubIssue\n",
    "{\n",
    "    [LoadColumn(0)]\n",
    "    public string ID { get; set; }\n",
    "    [LoadColumn(1)]\n",
    "    public string Area { get; set; }\n",
    "    [LoadColumn(2)]\n",
    "    public string Title { get; set; }\n",
    "    [LoadColumn(3)]\n",
    "    public string Description { get; set; }\n",
    "}\n",
    "\n",
    "public class IssuePrediction\n",
    "{\n",
    "    [ColumnName(\"PredictedLabel\")]\n",
    "    public string Area;\n",
    "}"
   ],
   "outputs": []
  },
  {
   "cell_type": "code",
   "execution_count": 1,
   "metadata": {},
   "source": [
    "var trainDataPath = Path.Combine(Environment.CurrentDirectory, \"data\", \"issues_train.tsv\");\n",
    "var testDataPath = Path.Combine(Environment.CurrentDirectory, \"data\", \"issues_test.tsv\");\n",
    "var modelPath = Path.Combine(Environment.CurrentDirectory, \"models\", \"gh_issues.zip\");"
   ],
   "outputs": []
  },
  {
   "cell_type": "code",
   "execution_count": 1,
   "metadata": {},
   "source": [
    "var ctx = new MLContext(seed: 0);\n",
    "var trainingDataView = ctx.Data.LoadFromTextFile<GitHubIssue>(trainDataPath, hasHeader: true);"
   ],
   "outputs": []
  },
  {
   "cell_type": "code",
   "execution_count": 1,
   "metadata": {},
   "source": [
    "PredictionEngine<GitHubIssue, IssuePrediction> predEngine;\n",
    "ITransformer trainedModel;"
   ],
   "outputs": []
  },
  {
   "cell_type": "code",
   "execution_count": 1,
   "metadata": {},
   "source": [
    "IEnumerable<GitHubIssue> SampleData(string file) \n",
    "{\n",
    "    var data = Path.Combine(Environment.CurrentDirectory, \"samples\", file);\n",
    "    var reader = File.ReadAllText(data);\n",
    "    var opt = new JsonSerializerOptions \n",
    "    { \n",
    "        IgnoreNullValues = true, \n",
    "        PropertyNameCaseInsensitive = true,\n",
    "    };\n",
    "    var json = JsonSerializer.Deserialize<IEnumerable<GitHubIssue>>(reader, opt);\n",
    "    var rng = new Random();\n",
    "    var order = json.OrderBy(x => rng.Next(json.ToArray().Length));\n",
    "    return order;\n",
    "}"
   ],
   "outputs": []
  },
  {
   "cell_type": "code",
   "execution_count": 1,
   "metadata": {},
   "source": [
    "IEstimator<ITransformer> ProcessData(MLContext ctx)\n",
    "{\n",
    "    var pipeline = ctx.Transforms.Conversion.MapValueToKey(inputColumnName: \"Area\", outputColumnName: \"Label\")\n",
    "    .Append(ctx.Transforms.Text.FeaturizeText(\n",
    "    inputColumnName: \"Title\", outputColumnName: \"TitleFeaturized\"))\n",
    "    .Append(ctx.Transforms.Text.FeaturizeText(inputColumnName: \"Description\", outputColumnName: \"DescriptionFeaturized\"))\n",
    "    .Append(ctx.Transforms.Concatenate(\"Features\", \"TitleFeaturized\", \"DescriptionFeaturized\"))\n",
    "    .AppendCacheCheckpoint(ctx);\n",
    "\n",
    "    return pipeline;\n",
    "}"
   ],
   "outputs": []
  },
  {
   "cell_type": "code",
   "execution_count": 1,
   "metadata": {},
   "source": [
    "void BuildAndTrainModel(MLContext ctx, IDataView trainingDataView, IEstimator<ITransformer> pipeline, IEnumerable<GitHubIssue> sample)\n",
    "{\n",
    "    var training = pipeline.Append(ctx.MulticlassClassification.Trainers.SdcaMaximumEntropy(\"Label\", \"Features\"))\n",
    "    .Append(ctx.Transforms.Conversion.MapKeyToValue(\"PredictedLabel\"));\n",
    "\n",
    "    Console.WriteLine(\"Training model ...\");\n",
    "    trainedModel = training.Fit(trainingDataView);\n",
    "    Console.WriteLine($\"Training ended: {DateTimeOffset.Now.ToString()}\");\n",
    "\n",
    "    predEngine = ctx.Model.CreatePredictionEngine<GitHubIssue, IssuePrediction>(trainedModel);\n",
    "\n",
    "    foreach (var prediction in sample)\n",
    "        predEngine.Predict(prediction);\n",
    "\n",
    "}"
   ],
   "outputs": []
  },
  {
   "cell_type": "code",
   "execution_count": 1,
   "metadata": {},
   "source": [
    "void SaveModelAsFile(MLContext ctx, DataViewSchema trainingDataViewSchema, ITransformer model)\n",
    "{\n",
    "    ctx.Model.Save(model, trainingDataViewSchema, modelPath);\n",
    "}"
   ],
   "outputs": []
  },
  {
   "cell_type": "code",
   "execution_count": 1,
   "metadata": {},
   "source": [
    "void Evaluate(MLContext ctx, DataViewSchema trainingDataViewSchema)\n",
    "{   \n",
    "    var testDataView = ctx.Data.LoadFromTextFile<GitHubIssue>(testDataPath, hasHeader: true);\n",
    "    var testMetrics = ctx.MulticlassClassification.Evaluate(trainedModel.Transform(testDataView));\n",
    "\n",
    "    Console.WriteLine($\"* Metrics for Multi-class Classification model - Test Data\");\n",
    "    Console.WriteLine($\"* MicroAccuracy: {testMetrics.MicroAccuracy:0.###}\");\n",
    "    Console.WriteLine($\"* MacroAccuracy: {testMetrics.MacroAccuracy:0.###}\");\n",
    "    Console.WriteLine($\"* LogLoss: {testMetrics.LogLoss:#.###}\");\n",
    "    Console.WriteLine($\"* LogLossReduction: {testMetrics.LogLossReduction:#.###}\");\n",
    "\n",
    "    SaveModelAsFile(ctx, trainingDataViewSchema, trainedModel);\n",
    "}"
   ],
   "outputs": []
  },
  {
   "cell_type": "code",
   "execution_count": 1,
   "metadata": {},
   "source": [
    "void PredictIssue(MLContext ctx, IEnumerable<GitHubIssue> sample)\n",
    "{\n",
    "    var loadedModel = ctx.Model.Load(modelPath, out var modelInputSchema);\n",
    "    predEngine = ctx.Model.CreatePredictionEngine<GitHubIssue, IssuePrediction>(loadedModel);\n",
    "\n",
    "    foreach (var prediction in sample)\n",
    "    {\n",
    "        var predict = predEngine.Predict(prediction);\n",
    "        Console.WriteLine($\"Predicting issue: {prediction.Title}{Environment.NewLine}Single Prediction - Result: {predict.Area}\");\n",
    "    }\n",
    "}"
   ],
   "outputs": []
  },
  {
   "cell_type": "code",
   "execution_count": 1,
   "metadata": {},
   "source": [
    "var pipeline = ProcessData(ctx);\n",
    "var trainingSamples = SampleData(\"issues_train.json\");\n",
    "BuildAndTrainModel(ctx, trainingDataView, pipeline, trainingSamples);"
   ],
   "outputs": [
    {
     "output_type": "error",
     "ename": "Error",
     "evalue": "System.IO.FileNotFoundException: Could not find file 'c:\\Users\\zc456\\source\\repos\\mlworkshop\\notebooks\\samples\\issuestrain.json'.\r\nFile name: 'c:\\Users\\zc456\\source\\repos\\mlworkshop\\notebooks\\samples\\issuestrain.json'\r\n   at System.IO.FileStream.ValidateFileHandle(SafeFileHandle fileHandle)\r\n   at System.IO.FileStream.CreateFileOpenHandle(FileMode mode, FileShare share, FileOptions options)\r\n   at System.IO.FileStream..ctor(String path, FileMode mode, FileAccess access, FileShare share, Int32 bufferSize, FileOptions options)\r\n   at System.IO.StreamReader.ValidateArgsAndOpenPath(String path, Encoding encoding, Int32 bufferSize)\r\n   at System.IO.StreamReader..ctor(String path, Encoding encoding, Boolean detectEncodingFromByteOrderMarks)\r\n   at System.IO.File.InternalReadAllText(String path, Encoding encoding)\r\n   at System.IO.File.ReadAllText(String path)\r\n   at Submission#23.SampleData(String file)\r\n   at Submission#32.<<Initialize>>d__0.MoveNext()\r\n--- End of stack trace from previous location ---\r\n   at Microsoft.CodeAnalysis.Scripting.ScriptExecutionState.RunSubmissionsAsync[TResult](ImmutableArray`1 precedingExecutors, Func`2 currentExecutor, StrongBox`1 exceptionHolderOpt, Func`2 catchExceptionOpt, CancellationToken cancellationToken)",
     "traceback": []
    }
   ]
  },
  {
   "cell_type": "code",
   "execution_count": 1,
   "metadata": {},
   "source": [
    "Evaluate(ctx, trainingDataView.Schema);"
   ],
   "outputs": [
    {
     "output_type": "error",
     "ename": "Error",
     "evalue": "System.NullReferenceException: Object reference not set to an instance of an object.\r\n   at Submission#27.Evaluate(MLContext ctx, DataViewSchema trainingDataViewSchema)\r\n   at Submission#30.<<Initialize>>d__0.MoveNext()\r\n--- End of stack trace from previous location ---\r\n   at Microsoft.CodeAnalysis.Scripting.ScriptExecutionState.RunSubmissionsAsync[TResult](ImmutableArray`1 precedingExecutors, Func`2 currentExecutor, StrongBox`1 exceptionHolderOpt, Func`2 catchExceptionOpt, CancellationToken cancellationToken)",
     "traceback": []
    }
   ]
  },
  {
   "cell_type": "code",
   "execution_count": 1,
   "metadata": {},
   "source": [
    "var predictSamples = SampleData(\"issues_predict.json\");\n",
    "PredictIssue(ctx, predictSamples);"
   ],
   "outputs": [
    {
     "output_type": "error",
     "ename": "Error",
     "evalue": "System.IO.FileNotFoundException: Could not find file 'c:\\Users\\zc456\\source\\repos\\mlworkshop\\notebooks\\samples\\issuespredict.json'.\r\nFile name: 'c:\\Users\\zc456\\source\\repos\\mlworkshop\\notebooks\\samples\\issuespredict.json'\r\n   at System.IO.FileStream.ValidateFileHandle(SafeFileHandle fileHandle)\r\n   at System.IO.FileStream.CreateFileOpenHandle(FileMode mode, FileShare share, FileOptions options)\r\n   at System.IO.FileStream..ctor(String path, FileMode mode, FileAccess access, FileShare share, Int32 bufferSize, FileOptions options)\r\n   at System.IO.StreamReader.ValidateArgsAndOpenPath(String path, Encoding encoding, Int32 bufferSize)\r\n   at System.IO.StreamReader..ctor(String path, Encoding encoding, Boolean detectEncodingFromByteOrderMarks)\r\n   at System.IO.File.InternalReadAllText(String path, Encoding encoding)\r\n   at System.IO.File.ReadAllText(String path)\r\n   at Submission#23.SampleData(String file)\r\n   at Submission#31.<<Initialize>>d__0.MoveNext()\r\n--- End of stack trace from previous location ---\r\n   at Microsoft.CodeAnalysis.Scripting.ScriptExecutionState.RunSubmissionsAsync[TResult](ImmutableArray`1 precedingExecutors, Func`2 currentExecutor, StrongBox`1 exceptionHolderOpt, Func`2 catchExceptionOpt, CancellationToken cancellationToken)",
     "traceback": []
    }
   ]
  }
 ],
 "metadata": {
  "kernelspec": {
   "display_name": ".NET (C#)",
   "language": "C#",
   "name": ".net-csharp"
  },
  "language_info": {
   "file_extension": ".cs",
   "mimetype": "text/x-csharp",
   "name": "C#",
   "pygments_lexer": "csharp",
   "version": "8.0"
  }
 },
 "nbformat": 4,
 "nbformat_minor": 4
}