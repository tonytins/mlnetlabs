{
 "cells": [
  {
   "cell_type": "code",
   "execution_count": 1,
   "metadata": {},
   "source": [
    "#!fsharp\n",
    "#r \"nuget:Microsoft.ML,1.4.0\"\n",
    "#r \"nuget:Microsoft.ML.FastTree,1.4.0\"\n",
    "#r \"nuget:XPlot.Plotly,3.0.1\""
   ],
   "outputs": []
  },
  {
   "cell_type": "code",
   "execution_count": 1,
   "metadata": {},
   "source": [
    "#!fsharp\n",
    "open System\n",
    "open System.IO\n",
    "open Microsoft.ML\n",
    "open Microsoft.ML.Data"
   ],
   "outputs": []
  },
  {
   "cell_type": "code",
   "execution_count": 1,
   "metadata": {},
   "source": [
    "#!fsharp\n",
    "/// Type representing the text to run sentiment analysis on.\n",
    "[<CLIMutable>] \n",
    "type SentimentIssue = \n",
    "    { \n",
    "        [<LoadColumn(0)>]\n",
    "        Label : bool\n",
    "\n",
    "        [<LoadColumn(2)>]\n",
    "        Text : string \n",
    "    }\n",
    "\n",
    "/// Result of sentiment prediction.\n",
    "[<CLIMutable>]\n",
    "type  SentimentPrediction = \n",
    "    { \n",
    "        // ColumnName attribute is used to change the column name from\n",
    "        // its default value, which is the name of the field.\n",
    "        [<ColumnName(\"PredictedLabel\")>]\n",
    "        Prediction : bool; \n",
    "\n",
    "        // No need to specify ColumnName attribute, because the field\n",
    "        // name \"Probability\" is the column name we want.\n",
    "        Probability : float32; \n",
    "\n",
    "        Score : float32 \n",
    "    }"
   ],
   "outputs": []
  },
  {
   "cell_type": "code",
   "execution_count": 1,
   "metadata": {},
   "source": [
    "#!fsharp\n",
    "let ctx = MLContext()"
   ],
   "outputs": []
  },
  {
   "cell_type": "code",
   "execution_count": 1,
   "metadata": {},
   "source": [
    "#!fsharp\n",
    "// Load in the data\n",
    "let dataView = ctx.Data.LoadFromTextFile<SentimentIssue>(Path.Combine(\"data\", \"wikiDetoxAnnotated40kRows.tsv\"), hasHeader = true)\n",
    "\n",
    "// Split data into test and training sets\n",
    "let trainTestSplit = ctx.Data.TrainTestSplit(dataView, testFraction = 0.2)\n",
    "let trainingDataView = trainTestSplit.TrainSet\n",
    "let testDataView = trainTestSplit.TestSet"
   ],
   "outputs": []
  },
  {
   "cell_type": "code",
   "execution_count": 1,
   "metadata": {},
   "source": [
    "#!fsharp\n",
    "let pipeline = ctx.Transforms.Text.FeaturizeText(\"Features\", \"Text\")"
   ],
   "outputs": []
  },
  {
   "cell_type": "code",
   "execution_count": 1,
   "metadata": {},
   "source": [
    "#!fsharp\n",
    "let trainer = ctx.BinaryClassification.Trainers.FastTree(labelColumnName = \"Label\", \n",
    "                                                         featureColumnName = \"Features\")\n",
    "let trainingPipeline = pipeline.Append(trainer)"
   ],
   "outputs": []
  },
  {
   "cell_type": "code",
   "execution_count": 1,
   "metadata": {},
   "source": [
    "#!fsharp\n",
    "let trainedModel = pipeline.Fit(trainingDataView)"
   ],
   "outputs": []
  },
  {
   "cell_type": "code",
   "execution_count": 1,
   "metadata": {},
   "source": [
    "#!fsharp\n",
    "printfn \"===== Evaluating Model's accuracy with Test data =====\"\n",
    "let predict = trainedModel.Transform testDataView\n",
    "let metrics = ctx.BinaryClassification.Evaluate(predict, \"Label\", \"Score\")"
   ],
   "outputs": []
  }
 ],
 "metadata": {
  "kernelspec": {
   "display_name": ".NET (C#)",
   "language": "C#",
   "name": ".net-csharp"
  },
  "language_info": {
   "file_extension": ".cs",
   "mimetype": "text/x-csharp",
   "name": "C#",
   "pygments_lexer": "csharp",
   "version": "8.0"
  }
 },
 "nbformat": 4,
 "nbformat_minor": 4
}