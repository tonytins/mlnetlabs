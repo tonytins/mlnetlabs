{
 "cells": [
  {
   "cell_type": "markdown",
   "metadata": {},
   "source": [
    "# Sentiment Analysis\n",
    "Based on Microsoft's [ML.NET tutorial](https://docs.microsoft.com/en-us/dotnet/machine-learning/tutorials/sentiment-analysis)."
   ]
  },
  {
   "cell_type": "code",
   "execution_count": 1,
   "metadata": {},
   "source": [
    "#r \"nuget:Microsoft.ML\""
   ],
   "outputs": []
  },
  {
   "cell_type": "code",
   "execution_count": 1,
   "metadata": {},
   "source": [
    "using System.Collections.Generic;\n",
    "using System.IO;\n",
    "using System.Linq;\n",
    "using Microsoft.ML;\n",
    "using Microsoft.ML.Data;\n",
    "using static Microsoft.ML.DataOperationsCatalog;\n",
    "using Microsoft.ML.Trainers;\n",
    "using Microsoft.ML.Transforms.Text;"
   ],
   "outputs": []
  },
  {
   "cell_type": "code",
   "execution_count": 1,
   "metadata": {},
   "source": [
    "// Load in the dataset for consumption\n",
    "readonly string _dataPath = Path.Combine(\"..\", \"data\", \"yelp_labelled.txt\");"
   ],
   "outputs": []
  },
  {
   "cell_type": "code",
   "execution_count": 1,
   "metadata": {},
   "source": [
    "/* \n",
    " * The input dataset class, SentimentData, has a string for user comments\n",
    " * (SentimentText) and a bool (Sentiment) value of either 1 (positive) \n",
    " * or 0 (negative) for senitment. \n",
    " */\n",
    "class SentimentData\n",
    "{\n",
    "    [LoadColumn(0)]\n",
    "    public string SentimentText;\n",
    "\n",
    "    [LoadColumn(1), ColumnName(\"Label\")]\n",
    "    public bool Sentiment;\n",
    "}\n",
    "\n",
    "/*\n",
    " * SentimentPrediction is the prediction class used after the model training.\n",
    " * It inherits from SentimentData so that the input SentimentText cam be displayed\n",
    " * along with the prediction.\n",
    " */\n",
    "class SentimentPrediction : SentimentData\n",
    "{\n",
    "\n",
    "    [ColumnName(\"PredictedLabel\")]\n",
    "    public bool Prediction { get; set; }\n",
    "\n",
    "    public float Probability { get; set; }\n",
    "\n",
    "    public float Score { get; set; }\n",
    "}"
   ],
   "outputs": []
  },
  {
   "cell_type": "code",
   "execution_count": 1,
   "metadata": {},
   "source": [
    "MLContext _ctx = new MLContext(seed: 0);"
   ],
   "outputs": []
  },
  {
   "cell_type": "code",
   "execution_count": 1,
   "metadata": {},
   "source": [
    "// LoadData() loads the data, splits the dataset, and returns the\n",
    "// the split and train test datasets.\n",
    "TrainTestData LoadData(MLContext ctx)\n",
    "{\n",
    "    var dataView = ctx.Data.LoadFromTextFile<SentimentData>(_dataPath, hasHeader: false);\n",
    "    var splitDataView = ctx.Data.TrainTestSplit(dataView, testFraction: 0.2);\n",
    "    return splitDataView;\n",
    "}"
   ],
   "outputs": []
  },
  {
   "cell_type": "code",
   "execution_count": 1,
   "metadata": {},
   "source": [
    "// Extracts and transforms the data then use classification\n",
    "// algorithm that categorizes items or rows of data\n",
    "ITransformer BuildAndTrainModel(MLContext ctx, IDataView splitTrainSet)\n",
    "{\n",
    "    var estimator = ctx.Transforms.Text.FeaturizeText(\"Features\", \n",
    "    inputColumnName: nameof(SentimentData.SentimentText))\n",
    "    .Append(_ctx.BinaryClassification.Trainers.SdcaLogisticRegression(labelColumnName: \"Label\",\n",
    "    featureColumnName: \"Features\"))\n",
    "    .AppendCacheCheckpoint(ctx);;\n",
    "\n",
    "    var model = estimator.Fit(splitTrainSet);\n",
    "\n",
    "    return model; \n",
    "}"
   ],
   "outputs": []
  },
  {
   "cell_type": "code",
   "execution_count": 1,
   "metadata": {},
   "source": [
    "// Loads the test dataset, creates the eveluator, evaluates the\n",
    "// model and creates the metrics then displays the metrics\n",
    "void Evaluate(MLContext ctx, ITransformer model, IDataView splitTestSet)\n",
    "{\n",
    "    var predictions = model.Transform(splitTestSet);\n",
    "    var metrics = ctx.BinaryClassification.Evaluate(predictions, \"Label\");\n",
    "\n",
    "    Console.WriteLine(\"Model quality metrics evaluation\");\n",
    "    Console.WriteLine($\"Accuracy: {metrics.Accuracy:P2}\");\n",
    "    Console.WriteLine($\"Auc: {metrics.AreaUnderRocCurve:P2}\");\n",
    "    Console.WriteLine($\"F1Score: {metrics.F1Score:P2}\");\n",
    "}"
   ],
   "outputs": []
  },
  {
   "cell_type": "code",
   "execution_count": 1,
   "metadata": {},
   "source": [
    "void UseModelWithSingleItem(MLContext ctx, ITransformer model, SentimentData sample)\n",
    "{\n",
    "    var predictionFunc = ctx.Model.CreatePredictionEngine<SentimentData, SentimentPrediction>(model);\n",
    "    var resultPrediction = predictionFunc.Predict(sample);\n",
    "\n",
    "    Console.WriteLine($\"Sentiment: {resultPrediction.SentimentText} | Prediction: {(Convert.ToBoolean(resultPrediction.Prediction) ? \"Positive\" : \"Negative\")} | Probability: {resultPrediction.Probability} \");\n",
    "}"
   ],
   "outputs": []
  },
  {
   "cell_type": "code",
   "execution_count": 1,
   "metadata": {},
   "source": [
    "void UseModelWithBatchItems(MLContext ctx, ITransformer model, IEnumerable<SentimentData> sample)\n",
    "{\n",
    "    var batch = ctx.Data.LoadFromEnumerable(sample);\n",
    "    var predictions = model.Transform(batch);\n",
    "    var results = ctx.Data.CreateEnumerable<SentimentPrediction>(predictions, reuseRowObject: false);\n",
    "\n",
    "    foreach (var prediction in results)\n",
    "    {\n",
    "        Console.WriteLine($\"Sentiment: {prediction.SentimentText} | Prediction: {(Convert.ToBoolean(prediction.Prediction) ? \"Positive\" : \"Negative\")} | Probability: {prediction.Probability} \");\n",
    "    }\n",
    "}"
   ],
   "outputs": []
  },
  {
   "cell_type": "code",
   "execution_count": 1,
   "metadata": {},
   "source": [
    "TrainTestData _splitDataView = LoadData(_ctx);\n",
    "ITransformer _model = BuildAndTrainModel(_ctx, _splitDataView.TrainSet);"
   ],
   "outputs": []
  },
  {
   "cell_type": "code",
   "execution_count": 1,
   "metadata": {},
   "source": [
    "Evaluate(_ctx, _model, _splitDataView.TestSet);"
   ],
   "outputs": []
  },
  {
   "cell_type": "code",
   "execution_count": 1,
   "metadata": {},
   "source": [
    "SentimentData _sample = new SentimentData\n",
    "{\n",
    "    SentimentText = \"This was a very bad steak\"\n",
    "};\n",
    "UseModelWithSingleItem(_ctx, _model, _sample);"
   ],
   "outputs": []
  },
  {
   "cell_type": "code",
   "execution_count": 1,
   "metadata": {},
   "source": [
    "IEnumerable<SentimentData> _sample2 = new[]\n",
    "{\n",
    "    new SentimentData\n",
    "    {\n",
    "        SentimentText = \"This was a horrible meal\"\n",
    "    },\n",
    "    new SentimentData\n",
    "    {\n",
    "        SentimentText = \"I love this spaghetti.\"\n",
    "    }\n",
    "};\n",
    "\n",
    "UseModelWithBatchItems(_ctx, _model, _sample2);"
   ],
   "outputs": []
  }
 ],
 "metadata": {
  "kernelspec": {
   "display_name": ".NET (C#)",
   "language": "C#",
   "name": ".net-csharp"
  },
  "language_info": {
   "file_extension": ".cs",
   "mimetype": "text/x-csharp",
   "name": "C#",
   "pygments_lexer": "csharp",
   "version": "8.0"
  }
 },
 "nbformat": 4,
 "nbformat_minor": 4
}